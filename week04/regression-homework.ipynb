{
 "cells": [
  {
   "cell_type": "markdown",
   "metadata": {},
   "source": [
    "# Homework 4\n",
    "\n",
    "- Execute the below code, then answer the numbered questions."
   ]
  },
  {
   "cell_type": "code",
   "execution_count": 18,
   "metadata": {},
   "outputs": [
    {
     "name": "stdout",
     "output_type": "stream",
     "text": [
      "<class 'pandas.core.frame.DataFrame'>\n",
      "RangeIndex: 9055 entries, 0 to 9054\n",
      "Data columns (total 7 columns):\n",
      " #   Column         Non-Null Count  Dtype  \n",
      "---  ------         --------------  -----  \n",
      " 0   make           8164 non-null   object \n",
      " 1   transmission   8106 non-null   object \n",
      " 2   state          8152 non-null   object \n",
      " 3   condition      8173 non-null   float64\n",
      " 4   odometer       8178 non-null   float64\n",
      " 5   auction_value  8107 non-null   float64\n",
      " 6   selling_price  9055 non-null   float64\n",
      "dtypes: float64(4), object(3)\n",
      "memory usage: 495.3+ KB\n"
     ]
    }
   ],
   "source": [
    "import pandas as pd\n",
    "\n",
    "df = pd.read_csv('https://raw.githubusercontent.com/msaricaumbc/DS_data/master/ds602/regression/car-reg-data.csv')\n",
    "df.info()"
   ]
  },
  {
   "cell_type": "code",
   "execution_count": 2,
   "metadata": {},
   "outputs": [
    {
     "name": "stdout",
     "output_type": "stream",
     "text": [
      "Records in training data: 7,244\n",
      "Records in test data: 1,811\n",
      "\n",
      "Features:\n",
      "make\n",
      "transmission\n",
      "state\n",
      "condition\n",
      "odometer\n",
      "auction_value\n"
     ]
    }
   ],
   "source": [
    "from sklearn.model_selection import train_test_split\n",
    "features = [x for x in df.columns if x != 'selling_price']\n",
    "\n",
    "X = df[features]\n",
    "y = df['selling_price']\n",
    "\n",
    "X_train, X_test, y_train, y_test = train_test_split(X, y, test_size=0.2, random_state=100)\n",
    "\n",
    "print(f'Records in training data: {X_train.shape[0]:,}')\n",
    "print(f'Records in test data: {X_test.shape[0]:,}')\n",
    "print('\\nFeatures:')\n",
    "print(*X_train.columns, sep='\\n')"
   ]
  },
  {
   "cell_type": "markdown",
   "metadata": {},
   "source": [
    "## Question 1: Split the features into two lists, one for the numerical features and another for the categorical features."
   ]
  },
  {
   "cell_type": "code",
   "execution_count": 4,
   "metadata": {},
   "outputs": [
    {
     "name": "stdout",
     "output_type": "stream",
     "text": [
      "['condition', 'odometer', 'auction_value']\n",
      "['make', 'transmission', 'state']\n"
     ]
    }
   ],
   "source": [
    "# insert code here\n",
    "numerical_features = X_train.select_dtypes(include=['float64', 'int64']).columns.tolist()\n",
    "categorical_features = X_train.select_dtypes(include=['object']).columns.tolist()\n",
    "print(numerical_features)\n",
    "print(categorical_features)"
   ]
  },
  {
   "cell_type": "markdown",
   "metadata": {},
   "source": [
    "## Question 2: Using the numerical variables, create a pipeline that replaces the missing values with the median and then standardizes the values using a standard scaler."
   ]
  },
  {
   "cell_type": "code",
   "execution_count": 8,
   "metadata": {},
   "outputs": [
    {
     "data": {
      "text/plain": [
       "array([[ 0.81204081, -0.18762983, -0.26827129],\n",
       "       [ 0.68432862, -0.47935108,  0.74349168],\n",
       "       [-1.23135429,  0.8616887 , -0.74042734],\n",
       "       ...,\n",
       "       [ 0.55661643, -0.00260324, -0.54481983],\n",
       "       [-0.33736893,  0.43391546, -0.84160364],\n",
       "       [ 0.81204081,  1.36295813, -0.51783949]])"
      ]
     },
     "execution_count": 8,
     "metadata": {},
     "output_type": "execute_result"
    }
   ],
   "source": [
    "# insert code here\n",
    "from sklearn.pipeline import Pipeline\n",
    "from sklearn.impute import SimpleImputer\n",
    "from sklearn.preprocessing import StandardScaler\n",
    "\n",
    "numerical_pipeline = Pipeline([\n",
    "    ('imputer', SimpleImputer(strategy='median')),\n",
    "    ('scaler', StandardScaler())\n",
    "])\n",
    "X_train_num = numerical_pipeline.fit_transform(X_train[numerical_features])\n",
    "X_train_num"
   ]
  },
  {
   "cell_type": "markdown",
   "metadata": {},
   "source": [
    "## Question 3: Using the categorical variables, create a pipeline that replaces the missing values with the most frequent and then use one-hot encoding to convert the data to numerical arrays.\n",
    "- You should be dropping one category from each variable when using the one-hot encoder.  \n",
    "- To ensure the pipeline doesn't break when it receives new/unexpected categories, you should ignore new categories.\n",
    "- Use a fit transformer on the training dataset to validate all the columns are now numeric and to determine how many columns the transformed data contains."
   ]
  },
  {
   "cell_type": "code",
   "execution_count": 10,
   "metadata": {},
   "outputs": [
    {
     "name": "stdout",
     "output_type": "stream",
     "text": [
      "['make_bmw' 'make_chevrolet' 'make_chrysler' 'make_dodge' 'make_ford'\n",
      " 'make_honda' 'make_hyundai' 'make_kia' 'make_nissan' 'make_toyota'\n",
      " 'transmission_automatic' 'transmission_manual' 'state_az' 'state_ca'\n",
      " 'state_co' 'state_fl' 'state_ga' 'state_hi' 'state_il' 'state_in'\n",
      " 'state_la' 'state_ma' 'state_md' 'state_mi' 'state_mn' 'state_mo'\n",
      " 'state_ms' 'state_nc' 'state_ne' 'state_nj' 'state_nm' 'state_nv'\n",
      " 'state_ny' 'state_oh' 'state_or' 'state_pa' 'state_pr' 'state_sc'\n",
      " 'state_tn' 'state_tx' 'state_ut' 'state_va' 'state_wa' 'state_wi']\n"
     ]
    },
    {
     "name": "stderr",
     "output_type": "stream",
     "text": [
      "C:\\Users\\SAI SWETHA\\anaconda3\\lib\\site-packages\\sklearn\\utils\\deprecation.py:87: FutureWarning: Function get_feature_names is deprecated; get_feature_names is deprecated in 1.0 and will be removed in 1.2. Please use get_feature_names_out instead.\n",
      "  warnings.warn(msg, category=FutureWarning)\n"
     ]
    }
   ],
   "source": [
    "# insert code here\n",
    "from sklearn.preprocessing import OneHotEncoder\n",
    "#Creating a pipeline\n",
    "categorical_pipeline = Pipeline([\n",
    "    ('imputer', SimpleImputer(strategy='most_frequent')),\n",
    "    ('encoder', OneHotEncoder(sparse=False, handle_unknown='ignore'))\n",
    "])\n",
    "X_train_cat = categorical_pipeline.fit_transform(X_train[categorical_features])\n",
    "#Getting the list of new column names after one-hot encoding\n",
    "categorical_encoder = categorical_pipeline.named_steps['encoder']\n",
    "categorical_encoder_cols = categorical_encoder.get_feature_names(categorical_features)\n",
    "print(categorical_encoder_cols)"
   ]
  },
  {
   "cell_type": "markdown",
   "metadata": {},
   "source": [
    "## Question 4: Combine the numerical and categorical pipelines into one data processing pipeline.\n",
    "- Use a fit transformers and the training dataset to verify the data has no missing values and the correct number of columns."
   ]
  },
  {
   "cell_type": "code",
   "execution_count": 16,
   "metadata": {},
   "outputs": [],
   "source": [
    "# insert code here\n",
    "from sklearn.compose import ColumnTransformer\n",
    "# combine the numerical and categorical pipelines\n",
    "comb = ColumnTransformer([\n",
    "    ('num', numerical_pipeline, numerical_features),\n",
    "    ('cat', categorical_pipeline, categorical_features)\n",
    "])\n",
    "\n",
    "# fit and transform the training data\n",
    "X_train_processed = comb.fit_transform(X_train)"
   ]
  },
  {
   "cell_type": "code",
   "execution_count": 19,
   "metadata": {
    "scrolled": true
   },
   "outputs": [
    {
     "name": "stdout",
     "output_type": "stream",
     "text": [
      "0\n"
     ]
    },
    {
     "data": {
      "text/plain": [
       "array([[ 0.81204081, -0.18762983, -0.26827129, ...,  0.        ,\n",
       "         0.        ,  1.        ],\n",
       "       [ 0.68432862, -0.47935108,  0.74349168, ...,  0.        ,\n",
       "         0.        ,  0.        ],\n",
       "       [-1.23135429,  0.8616887 , -0.74042734, ...,  0.        ,\n",
       "         0.        ,  0.        ],\n",
       "       ...,\n",
       "       [ 0.55661643, -0.00260324, -0.54481983, ...,  0.        ,\n",
       "         0.        ,  0.        ],\n",
       "       [-0.33736893,  0.43391546, -0.84160364, ...,  0.        ,\n",
       "         0.        ,  0.        ],\n",
       "       [ 0.81204081,  1.36295813, -0.51783949, ...,  0.        ,\n",
       "         0.        ,  0.        ]])"
      ]
     },
     "execution_count": 19,
     "metadata": {},
     "output_type": "execute_result"
    }
   ],
   "source": [
    "print(np.isnan(X_train_processed).sum())\n",
    "X_train_processed"
   ]
  },
  {
   "cell_type": "code",
   "execution_count": 21,
   "metadata": {},
   "outputs": [
    {
     "name": "stdout",
     "output_type": "stream",
     "text": [
      "Processed data has 47 columns\n"
     ]
    }
   ],
   "source": [
    "print(f'Processed data has {X_train_processed.shape[1]} columns')"
   ]
  },
  {
   "cell_type": "markdown",
   "metadata": {},
   "source": [
    "## Question 5: Add a linear regression model to the pipeline.\n",
    "- Report what the $R^2$ is using the `test` data.  "
   ]
  },
  {
   "cell_type": "code",
   "execution_count": 23,
   "metadata": {},
   "outputs": [
    {
     "data": {
      "text/plain": [
       "Pipeline(steps=[('preprocessor',\n",
       "                 ColumnTransformer(transformers=[('num',\n",
       "                                                  Pipeline(steps=[('imputer',\n",
       "                                                                   SimpleImputer(strategy='median')),\n",
       "                                                                  ('scaler',\n",
       "                                                                   StandardScaler())]),\n",
       "                                                  ['condition', 'odometer',\n",
       "                                                   'auction_value']),\n",
       "                                                 ('cat',\n",
       "                                                  Pipeline(steps=[('imputer',\n",
       "                                                                   SimpleImputer(strategy='most_frequent')),\n",
       "                                                                  ('encoder',\n",
       "                                                                   OneHotEncoder(handle_unknown='ignore',\n",
       "                                                                                 sparse=False))]),\n",
       "                                                  ['make', 'transmission',\n",
       "                                                   'state'])])),\n",
       "                ('linear_regression', LinearRegression())])"
      ]
     },
     "execution_count": 23,
     "metadata": {},
     "output_type": "execute_result"
    }
   ],
   "source": [
    "# insert code here\n",
    "from sklearn.linear_model import LinearRegression\n",
    "pipeline = Pipeline([\n",
    "    ('preprocessor', comb),\n",
    "    ('linear_regression', LinearRegression())\n",
    "])\n",
    "# fit the pipeline to the training data\n",
    "pipeline.fit(X_train, y_train)"
   ]
  },
  {
   "cell_type": "code",
   "execution_count": 28,
   "metadata": {},
   "outputs": [
    {
     "data": {
      "text/plain": [
       "0.883827442491126"
      ]
     },
     "execution_count": 28,
     "metadata": {},
     "output_type": "execute_result"
    }
   ],
   "source": [
    "r_square = pipeline.score(X_test, y_test)\n",
    "r_square"
   ]
  },
  {
   "cell_type": "markdown",
   "metadata": {},
   "source": [
    "## Question 6: Create a plot(s) of the residuals. Do you have any concerns about patterns in the residuals that the model is neglecting to pick-up?\n",
    "- Include a sentence or two on what you observe."
   ]
  },
  {
   "cell_type": "code",
   "execution_count": 31,
   "metadata": {},
   "outputs": [
    {
     "data": {
      "image/png": "[encoded data removed]",
      "text/plain": [
       "<Figure size 432x288 with 1 Axes>"
      ]
     },
     "metadata": {
      "needs_background": "light"
     },
     "output_type": "display_data"
    }
   ],
   "source": [
    "# insert code here\n",
    "import matplotlib.pyplot as plt\n",
    "\n",
    "# predict selling price using the test data\n",
    "y_pred = pipeline.predict(X_test)\n",
    "residuals = y_test - y_pred\n",
    "\n",
    "# ploting the residuals\n",
    "plt.scatter(y_test, residuals)\n",
    "plt.axhline(y=0, color='b', linestyle='-')\n",
    "plt.xlabel('Selling Price')\n",
    "plt.ylabel('Residuals')\n",
    "plt.title('Residual Plot')\n",
    "plt.show()"
   ]
  },
  {
   "cell_type": "markdown",
   "metadata": {},
   "source": [
    "The disparity between the expected and real selling rates is represented by the residual plot. The residuals should be randomly dispersed around the horizontal line at 0 if the model is fitting well and catching all the significant characteristics. The algorithm might be missing some crucial details, though, if there are trends in the residuals.\n",
    "\n",
    "There are some trends in the residuals, as can be seen by examining the residual map for our model. In particular, the residuals exhibit a small curvature as we progress from low selling prices to high selling prices, which may be a sign that the model is missing some non-linear connections between the features and the target variable. This implies that in order to account for these non-linearities, we might want to think about either using a different model entirely or including some non-linear factors in the current one."
   ]
  },
  {
   "cell_type": "markdown",
   "metadata": {},
   "source": [
    "## Question 7: Modify the pipeline to use a ridge regression model with an alpha value of 100. How does this change the $R^2$?"
   ]
  },
  {
   "cell_type": "code",
   "execution_count": 32,
   "metadata": {},
   "outputs": [
    {
     "data": {
      "text/plain": [
       "0.8838818430874077"
      ]
     },
     "execution_count": 32,
     "metadata": {},
     "output_type": "execute_result"
    }
   ],
   "source": [
    "from sklearn.linear_model import Ridge\n",
    "pipeline = Pipeline([\n",
    "    ('preprocessor', comb),\n",
    "    ('ridge_regression', Ridge(alpha=100))\n",
    "])\n",
    "\n",
    "# fit the pipeline to the training data\n",
    "pipeline.fit(X_train, y_train)\n",
    "r_square= pipeline.score(X_test, y_test)\n",
    "r_square"
   ]
  },
  {
   "cell_type": "markdown",
   "metadata": {},
   "source": [
    "There is a slight change in the R^2 value. This indicates that, at the expense of a marginally worse fit to the training data, the ridge regression model with an alpha value of 100 improves generalization while decreasing overfitting."
   ]
  },
  {
   "cell_type": "code",
   "execution_count": null,
   "metadata": {},
   "outputs": [],
   "source": []
  }
 ],
 "metadata": {
  "kernelspec": {
   "display_name": "Python 3 (ipykernel)",
   "language": "python",
   "name": "python3"
  },
  "language_info": {
   "codemirror_mode": {
    "name": "ipython",
    "version": 3
   },
   "file_extension": ".py",
   "mimetype": "text/x-python",
   "name": "python",
   "nbconvert_exporter": "python",
   "pygments_lexer": "ipython3",
   "version": "3.9.12"
  },
  "toc": {
   "base_numbering": 1,
   "nav_menu": {},
   "number_sections": true,
   "sideBar": true,
   "skip_h1_title": false,
   "title_cell": "Table of Contents",
   "title_sidebar": "Contents",
   "toc_cell": false,
   "toc_position": {},
   "toc_section_display": true,
   "toc_window_display": false
  }
 },
 "nbformat": 4,
 "nbformat_minor": 4
}
