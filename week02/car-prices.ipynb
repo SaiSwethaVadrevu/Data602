{
 "cells": [
  {
   "cell_type": "markdown",
   "metadata": {},
   "source": [
    "# Assignment Week 2 \n",
    "\n",
    "* Answer each question completely. \n",
    "* Include your code and summarize what you see in a brief narrative.\n",
    "\n",
    "__Charting:__\n",
    "Remember to make your charts as self-sufficient as possible (i.e., labels, titles, lack of clutter)  "
   ]
  },
  {
   "cell_type": "code",
   "execution_count": 6,
   "metadata": {},
   "outputs": [
    {
     "name": "stdout",
     "output_type": "stream",
     "text": [
      "<class 'pandas.core.frame.DataFrame'>\n",
      "RangeIndex: 558837 entries, 0 to 558836\n",
      "Data columns (total 16 columns):\n",
      " #   Column        Non-Null Count   Dtype  \n",
      "---  ------        --------------   -----  \n",
      " 0   year          558837 non-null  int64  \n",
      " 1   make          548536 non-null  object \n",
      " 2   model         548438 non-null  object \n",
      " 3   trim          548186 non-null  object \n",
      " 4   body          545642 non-null  object \n",
      " 5   transmission  493484 non-null  object \n",
      " 6   vin           558833 non-null  object \n",
      " 7   state         558837 non-null  object \n",
      " 8   condition     547043 non-null  object \n",
      " 9   odometer      558743 non-null  float64\n",
      " 10  color         558088 non-null  object \n",
      " 11  interior      558088 non-null  object \n",
      " 12  seller        558837 non-null  object \n",
      " 13  mmr           558837 non-null  object \n",
      " 14  sellingprice  558837 non-null  int64  \n",
      " 15  saledate      558837 non-null  object \n",
      "dtypes: float64(1), int64(2), object(13)\n",
      "memory usage: 68.2+ MB\n"
     ]
    }
   ],
   "source": [
    "import pandas as pd\n",
    "import numpy as np\n",
    "import matplotlib.pyplot as plt\n",
    "%matplotlib inline\n",
    "\n",
    "df = pd.read_csv('https://raw.githubusercontent.com/msaricaumbc/DS_data/master/ds602/car_prices/car_prices.csv', low_memory=False)\n",
    "\n",
    "df.info()"
   ]
  },
  {
   "cell_type": "markdown",
   "metadata": {},
   "source": [
    "# Data Description:\n",
    "- year: year the car was built (e.g., the model year)  \n",
    "- make: the manufacturer. \n",
    "- model: specific model of the car  \n",
    "- trim: subtype of the car model. \n",
    "- body: body style of the car. \n",
    "- transmission: type of transmission  \n",
    "- state: state car is registered. \n",
    "- condition: numerical rating of the condition, higher is better.  \n",
    "- odometer: number of miles the car has been driven.   \n",
    "- color: color of the car.  \n",
    "- interior: type of interior (e.g., seats). \n",
    "- mmr: estimated wholesale price of the car if auctioned.  \n",
    "- sellingprice: actual sales price of the car."
   ]
  },
  {
   "cell_type": "markdown",
   "metadata": {},
   "source": [
    "## Question 1. Determine the number of missing values in each column."
   ]
  },
  {
   "cell_type": "code",
   "execution_count": 3,
   "metadata": {},
   "outputs": [
    {
     "name": "stdout",
     "output_type": "stream",
     "text": [
      "year                0\n",
      "make            10301\n",
      "model           10399\n",
      "trim            10651\n",
      "body            13195\n",
      "transmission    65353\n",
      "vin                 4\n",
      "state               0\n",
      "condition       11794\n",
      "odometer           94\n",
      "color             749\n",
      "interior          749\n",
      "seller              0\n",
      "mmr                 0\n",
      "sellingprice        0\n",
      "saledate            0\n",
      "dtype: int64\n"
     ]
    }
   ],
   "source": [
    "missing_val=df.isna().sum()\n",
    "print(missing_val)"
   ]
  },
  {
   "cell_type": "markdown",
   "metadata": {},
   "source": [
    "Here there are maximum missing values in columns like make, model, trim, body, transmission and conditon.\n"
   ]
  },
  {
   "cell_type": "markdown",
   "metadata": {},
   "source": [
    "## Question 2. Check the data types.\n",
    "- Which columns are coded to the incorrect type? If any, correct them."
   ]
  },
  {
   "cell_type": "code",
   "execution_count": 5,
   "metadata": {},
   "outputs": [
    {
     "data": {
      "text/html": [
       "<div>\n",
       "<style scoped>\n",
       "    .dataframe tbody tr th:only-of-type {\n",
       "        vertical-align: middle;\n",
       "    }\n",
       "\n",
       "    .dataframe tbody tr th {\n",
       "        vertical-align: top;\n",
       "    }\n",
       "\n",
       "    .dataframe thead th {\n",
       "        text-align: right;\n",
       "    }\n",
       "</style>\n",
       "<table border=\"1\" class=\"dataframe\">\n",
       "  <thead>\n",
       "    <tr style=\"text-align: right;\">\n",
       "      <th></th>\n",
       "      <th>year</th>\n",
       "      <th>make</th>\n",
       "      <th>model</th>\n",
       "      <th>trim</th>\n",
       "      <th>body</th>\n",
       "      <th>transmission</th>\n",
       "      <th>vin</th>\n",
       "      <th>state</th>\n",
       "      <th>condition</th>\n",
       "      <th>odometer</th>\n",
       "      <th>color</th>\n",
       "      <th>interior</th>\n",
       "      <th>seller</th>\n",
       "      <th>mmr</th>\n",
       "      <th>sellingprice</th>\n",
       "      <th>saledate</th>\n",
       "    </tr>\n",
       "  </thead>\n",
       "  <tbody>\n",
       "    <tr>\n",
       "      <th>0</th>\n",
       "      <td>2015</td>\n",
       "      <td>Kia</td>\n",
       "      <td>Sorento</td>\n",
       "      <td>LX</td>\n",
       "      <td>SUV</td>\n",
       "      <td>automatic</td>\n",
       "      <td>5xyktca69fg566472</td>\n",
       "      <td>ca</td>\n",
       "      <td>5</td>\n",
       "      <td>16639.0</td>\n",
       "      <td>white</td>\n",
       "      <td>black</td>\n",
       "      <td>kia motors america, inc</td>\n",
       "      <td>20500</td>\n",
       "      <td>21500</td>\n",
       "      <td>Tue Dec 16 2014 12:30:00 GMT-0800 (PST)</td>\n",
       "    </tr>\n",
       "    <tr>\n",
       "      <th>1</th>\n",
       "      <td>2015</td>\n",
       "      <td>Kia</td>\n",
       "      <td>Sorento</td>\n",
       "      <td>LX</td>\n",
       "      <td>SUV</td>\n",
       "      <td>automatic</td>\n",
       "      <td>5xyktca69fg561319</td>\n",
       "      <td>ca</td>\n",
       "      <td>5</td>\n",
       "      <td>9393.0</td>\n",
       "      <td>white</td>\n",
       "      <td>beige</td>\n",
       "      <td>kia motors america, inc</td>\n",
       "      <td>20800</td>\n",
       "      <td>21500</td>\n",
       "      <td>Tue Dec 16 2014 12:30:00 GMT-0800 (PST)</td>\n",
       "    </tr>\n",
       "    <tr>\n",
       "      <th>2</th>\n",
       "      <td>2014</td>\n",
       "      <td>BMW</td>\n",
       "      <td>3 Series</td>\n",
       "      <td>328i SULEV</td>\n",
       "      <td>Sedan</td>\n",
       "      <td>automatic</td>\n",
       "      <td>wba3c1c51ek116351</td>\n",
       "      <td>ca</td>\n",
       "      <td>4.5</td>\n",
       "      <td>1331.0</td>\n",
       "      <td>gray</td>\n",
       "      <td>black</td>\n",
       "      <td>financial services remarketing (lease)</td>\n",
       "      <td>31900</td>\n",
       "      <td>30000</td>\n",
       "      <td>Thu Jan 15 2015 04:30:00 GMT-0800 (PST)</td>\n",
       "    </tr>\n",
       "    <tr>\n",
       "      <th>3</th>\n",
       "      <td>2015</td>\n",
       "      <td>Volvo</td>\n",
       "      <td>S60</td>\n",
       "      <td>T5</td>\n",
       "      <td>Sedan</td>\n",
       "      <td>automatic</td>\n",
       "      <td>yv1612tb4f1310987</td>\n",
       "      <td>ca</td>\n",
       "      <td>4.1</td>\n",
       "      <td>14282.0</td>\n",
       "      <td>white</td>\n",
       "      <td>black</td>\n",
       "      <td>volvo na rep/world omni</td>\n",
       "      <td>27500</td>\n",
       "      <td>27750</td>\n",
       "      <td>Thu Jan 29 2015 04:30:00 GMT-0800 (PST)</td>\n",
       "    </tr>\n",
       "    <tr>\n",
       "      <th>4</th>\n",
       "      <td>2014</td>\n",
       "      <td>BMW</td>\n",
       "      <td>6 Series Gran Coupe</td>\n",
       "      <td>650i</td>\n",
       "      <td>Sedan</td>\n",
       "      <td>automatic</td>\n",
       "      <td>wba6b2c57ed129731</td>\n",
       "      <td>ca</td>\n",
       "      <td>4.3</td>\n",
       "      <td>2641.0</td>\n",
       "      <td>gray</td>\n",
       "      <td>black</td>\n",
       "      <td>financial services remarketing (lease)</td>\n",
       "      <td>66000</td>\n",
       "      <td>67000</td>\n",
       "      <td>Thu Dec 18 2014 12:30:00 GMT-0800 (PST)</td>\n",
       "    </tr>\n",
       "  </tbody>\n",
       "</table>\n",
       "</div>"
      ],
      "text/plain": [
       "   year   make                model        trim   body transmission  \\\n",
       "0  2015    Kia              Sorento          LX    SUV    automatic   \n",
       "1  2015    Kia              Sorento          LX    SUV    automatic   \n",
       "2  2014    BMW             3 Series  328i SULEV  Sedan    automatic   \n",
       "3  2015  Volvo                  S60          T5  Sedan    automatic   \n",
       "4  2014    BMW  6 Series Gran Coupe        650i  Sedan    automatic   \n",
       "\n",
       "                 vin state condition  odometer  color interior  \\\n",
       "0  5xyktca69fg566472    ca         5   16639.0  white    black   \n",
       "1  5xyktca69fg561319    ca         5    9393.0  white    beige   \n",
       "2  wba3c1c51ek116351    ca       4.5    1331.0   gray    black   \n",
       "3  yv1612tb4f1310987    ca       4.1   14282.0  white    black   \n",
       "4  wba6b2c57ed129731    ca       4.3    2641.0   gray    black   \n",
       "\n",
       "                                   seller    mmr  sellingprice  \\\n",
       "0                 kia motors america, inc  20500         21500   \n",
       "1                 kia motors america, inc  20800         21500   \n",
       "2  financial services remarketing (lease)  31900         30000   \n",
       "3                 volvo na rep/world omni  27500         27750   \n",
       "4  financial services remarketing (lease)  66000         67000   \n",
       "\n",
       "                                  saledate  \n",
       "0  Tue Dec 16 2014 12:30:00 GMT-0800 (PST)  \n",
       "1  Tue Dec 16 2014 12:30:00 GMT-0800 (PST)  \n",
       "2  Thu Jan 15 2015 04:30:00 GMT-0800 (PST)  \n",
       "3  Thu Jan 29 2015 04:30:00 GMT-0800 (PST)  \n",
       "4  Thu Dec 18 2014 12:30:00 GMT-0800 (PST)  "
      ]
     },
     "execution_count": 5,
     "metadata": {},
     "output_type": "execute_result"
    }
   ],
   "source": [
    "df.head()"
   ]
  },
  {
   "cell_type": "code",
   "execution_count": 6,
   "metadata": {},
   "outputs": [
    {
     "data": {
      "text/plain": [
       "year              int64\n",
       "make             object\n",
       "model            object\n",
       "trim             object\n",
       "body             object\n",
       "transmission     object\n",
       "vin              object\n",
       "state            object\n",
       "condition        object\n",
       "odometer        float64\n",
       "color            object\n",
       "interior         object\n",
       "seller           object\n",
       "mmr              object\n",
       "sellingprice      int64\n",
       "saledate         object\n",
       "dtype: object"
      ]
     },
     "execution_count": 6,
     "metadata": {},
     "output_type": "execute_result"
    }
   ],
   "source": [
    "df.dtypes"
   ]
  },
  {
   "cell_type": "code",
   "execution_count": 20,
   "metadata": {},
   "outputs": [
    {
     "data": {
      "text/plain": [
       "year               int64\n",
       "make            category\n",
       "model             object\n",
       "trim              object\n",
       "body              object\n",
       "transmission      object\n",
       "vin               object\n",
       "state             object\n",
       "condition         object\n",
       "odometer         float64\n",
       "color             object\n",
       "interior          object\n",
       "seller            object\n",
       "mmr              float64\n",
       "sellingprice       int64\n",
       "saledate          object\n",
       "dtype: object"
      ]
     },
     "execution_count": 20,
     "metadata": {},
     "output_type": "execute_result"
    }
   ],
   "source": [
    "df['mmr'] = df['mmr'].astype(float)\n",
    "\n",
    "df.dtypes"
   ]
  },
  {
   "cell_type": "code",
   "execution_count": 27,
   "metadata": {},
   "outputs": [
    {
     "data": {
      "text/plain": [
       "year               int64\n",
       "make            category\n",
       "model             object\n",
       "trim              object\n",
       "body              object\n",
       "transmission      object\n",
       "vin               object\n",
       "state             object\n",
       "condition         object\n",
       "odometer         float64\n",
       "color             object\n",
       "interior          object\n",
       "seller            object\n",
       "mmr                int32\n",
       "sellingprice       int64\n",
       "saledate          object\n",
       "dtype: object"
      ]
     },
     "execution_count": 27,
     "metadata": {},
     "output_type": "execute_result"
    }
   ],
   "source": [
    "df['mmr'].fillna(df['mmr'].mean(), inplace=True)\n",
    "df['mmr']=df['mmr'].astype(int)\n",
    "df.dtypes"
   ]
  },
  {
   "cell_type": "markdown",
   "metadata": {},
   "source": [
    "The data type for mmr is string which is a wrong one so I have changed the data type to int by first changing the string type to float and filling all the null values and then changed to int"
   ]
  },
  {
   "cell_type": "code",
   "execution_count": null,
   "metadata": {},
   "outputs": [],
   "source": []
  },
  {
   "cell_type": "markdown",
   "metadata": {},
   "source": [
    "## Question 3. Analyze the `make` column.\n",
    "- Comment on what you observe.  \n",
    "- Clean the column to reduce the number of unique values to as few as reasonably possible (no hard coding). \n",
    "\n",
    "Hint: What do you notice if you run this:\n",
    "```python\n",
    "makes = df.make.unique().tolist()\n",
    "makes = [str(x).lower() for x in makes]\n",
    "sorted(makes)\n",
    "```"
   ]
  },
  {
   "cell_type": "code",
   "execution_count": 10,
   "metadata": {},
   "outputs": [
    {
     "data": {
      "text/plain": [
       "['acura',\n",
       " 'acura',\n",
       " 'airstream',\n",
       " 'aston martin',\n",
       " 'audi',\n",
       " 'audi',\n",
       " 'bentley',\n",
       " 'bmw',\n",
       " 'bmw',\n",
       " 'buick',\n",
       " 'buick',\n",
       " 'cadillac',\n",
       " 'cadillac',\n",
       " 'chev truck',\n",
       " 'chevrolet',\n",
       " 'chevrolet',\n",
       " 'chrysler',\n",
       " 'chrysler',\n",
       " 'daewoo',\n",
       " 'dodge',\n",
       " 'dodge',\n",
       " 'dodge tk',\n",
       " 'dot',\n",
       " 'ferrari',\n",
       " 'fiat',\n",
       " 'fisker',\n",
       " 'ford',\n",
       " 'ford',\n",
       " 'ford tk',\n",
       " 'ford truck',\n",
       " 'geo',\n",
       " 'gmc',\n",
       " 'gmc',\n",
       " 'gmc truck',\n",
       " 'honda',\n",
       " 'honda',\n",
       " 'hummer',\n",
       " 'hyundai',\n",
       " 'hyundai',\n",
       " 'hyundai tk',\n",
       " 'infiniti',\n",
       " 'isuzu',\n",
       " 'jaguar',\n",
       " 'jeep',\n",
       " 'jeep',\n",
       " 'kia',\n",
       " 'kia',\n",
       " 'lamborghini',\n",
       " 'land rover',\n",
       " 'land rover',\n",
       " 'landrover',\n",
       " 'lexus',\n",
       " 'lexus',\n",
       " 'lincoln',\n",
       " 'lincoln',\n",
       " 'lotus',\n",
       " 'maserati',\n",
       " 'maserati',\n",
       " 'mazda',\n",
       " 'mazda',\n",
       " 'mazda tk',\n",
       " 'mercedes',\n",
       " 'mercedes-b',\n",
       " 'mercedes-benz',\n",
       " 'mercury',\n",
       " 'mercury',\n",
       " 'mini',\n",
       " 'mitsubishi',\n",
       " 'mitsubishi',\n",
       " 'nan',\n",
       " 'nissan',\n",
       " 'nissan',\n",
       " 'oldsmobile',\n",
       " 'oldsmobile',\n",
       " 'plymouth',\n",
       " 'plymouth',\n",
       " 'pontiac',\n",
       " 'pontiac',\n",
       " 'porsche',\n",
       " 'porsche',\n",
       " 'ram',\n",
       " 'rolls-royce',\n",
       " 'saab',\n",
       " 'saturn',\n",
       " 'scion',\n",
       " 'smart',\n",
       " 'subaru',\n",
       " 'subaru',\n",
       " 'suzuki',\n",
       " 'suzuki',\n",
       " 'tesla',\n",
       " 'toyota',\n",
       " 'toyota',\n",
       " 'volkswagen',\n",
       " 'volkswagen',\n",
       " 'volvo',\n",
       " 'vw']"
      ]
     },
     "execution_count": 10,
     "metadata": {},
     "output_type": "execute_result"
    }
   ],
   "source": [
    "makes = df.make.unique().tolist()\n",
    "makes = [str(x).lower() for x in makes]\n",
    "sorted(makes)"
   ]
  },
  {
   "cell_type": "code",
   "execution_count": 9,
   "metadata": {},
   "outputs": [
    {
     "data": {
      "text/plain": [
       "0            Kia\n",
       "1            Kia\n",
       "2            BMW\n",
       "3          Volvo\n",
       "4            BMW\n",
       "           ...  \n",
       "558832       Kia\n",
       "558833       Ram\n",
       "558834       BMW\n",
       "558835    Nissan\n",
       "558836      Ford\n",
       "Name: make, Length: 558837, dtype: category\n",
       "Categories (96, object): ['Acura', 'Aston Martin', 'Audi', 'BMW', ..., 'suzuki', 'toyota', 'volkswagen', 'vw']"
      ]
     },
     "execution_count": 9,
     "metadata": {},
     "output_type": "execute_result"
    }
   ],
   "source": [
    "df['make'] = df['make'].astype('category')\n",
    "df['make']"
   ]
  },
  {
   "cell_type": "markdown",
   "metadata": {},
   "source": [
    "By executing the above code in the question I found that there are dupllicate values of car names and to clean the column I have changed the data type from string to category so that it will give us the list of car names available in the data"
   ]
  },
  {
   "cell_type": "markdown",
   "metadata": {},
   "source": [
    "## Question 4. Analyze the relationship between the wholeprice `mmr` and the `salesprice`.\n",
    "- What is the overall correlation?  \n",
    "- What happens to the correlation as you increase the maximum selling price window (e.g., 0-10000, 0-20000,...)?\n",
    "- Create a scatter plot with the relationship.  \n",
    "- Create a graph that shows how the correlation changes."
   ]
  },
  {
   "cell_type": "code",
   "execution_count": 28,
   "metadata": {},
   "outputs": [
    {
     "data": {
      "text/plain": [
       "0.983633692306574"
      ]
     },
     "execution_count": 28,
     "metadata": {},
     "output_type": "execute_result"
    }
   ],
   "source": [
    "#Calculating the correlation\n",
    "c = df['mmr'].corr(df['sellingprice'])\n",
    "c"
   ]
  },
  {
   "cell_type": "markdown",
   "metadata": {},
   "source": [
    "The complexity of the link between the two variables defines how raising the maximum selling price window will affect the correlation between the two. \n",
    "\n",
    "Increasing the maximum selling price window might have little effect on the correlation if there is a significant linear relationship between the two variables. On the other hand, if the association between the two variables is weak or non-linear, widening the maximum selling price range can make it fade entirely.\n",
    "\n",
    "When the maximum selling price window widens, the correlation may become less vulnerable to transient changes or data noise and may offer a more solid indicator of the long-term link between the two variables. The correlation could lose sensitivity to recent changes or trends in the data, though, if the window is increased excessively."
   ]
  },
  {
   "cell_type": "code",
   "execution_count": 29,
   "metadata": {},
   "outputs": [
    {
     "data": {
      "image/png": "[encoded data removed]",
      "text/plain": [
       "<Figure size 432x288 with 1 Axes>"
      ]
     },
     "metadata": {
      "needs_background": "light"
     },
     "output_type": "display_data"
    }
   ],
   "source": [
    "plt.scatter(df['mmr'], df['sellingprice'])\n",
    "plt.xlabel('Whole Price')\n",
    "plt.ylabel('Selling price')\n",
    "plt.title('Relationship between Whole Price and Selling price')\n",
    "plt.show()"
   ]
  },
  {
   "cell_type": "code",
   "execution_count": null,
   "metadata": {},
   "outputs": [],
   "source": []
  },
  {
   "cell_type": "markdown",
   "metadata": {},
   "source": [
    "## Question 5. How does the distribution of `salesprice` vary by make for cars made between 2010-2015?\n",
    "- Use the 10 most common makes (your cleaned version of this column).  \n",
    "- Create a graph that answers this question."
   ]
  },
  {
   "cell_type": "code",
   "execution_count": null,
   "metadata": {},
   "outputs": [],
   "source": [
    "# Filter the DataFrame to include only cars made between 2010-2015\n",
    "import seaborn as sns\n",
    "df = df[(df['saledate'] >= '2010') & (df['saledate'] <= '2015')]\n",
    "top = df['make'].value_counts().head(10).index.tolist()\n",
    "df_top = df[df['make'].isin(top)]\n",
    "sns.boxplot(x='make', y='sellingprice', data=df_top)\n",
    "plt.title('Distribution of Sales Prices by Make for Cars Made Between 2010-2015')\n",
    "plt.xlabel('Make')\n",
    "plt.ylabel('Sales Price')\n",
    "plt.show()"
   ]
  },
  {
   "cell_type": "markdown",
   "metadata": {},
   "source": [
    "Sample narrative description."
   ]
  },
  {
   "cell_type": "code",
   "execution_count": null,
   "metadata": {},
   "outputs": [],
   "source": []
  }
 ],
 "metadata": {
  "kernelspec": {
   "display_name": "Python 3 (ipykernel)",
   "language": "python",
   "name": "python3"
  },
  "language_info": {
   "codemirror_mode": {
    "name": "ipython",
    "version": 3
   },
   "file_extension": ".py",
   "mimetype": "text/x-python",
   "name": "python",
   "nbconvert_exporter": "python",
   "pygments_lexer": "ipython3",
   "version": "3.9.12"
  },
  "toc": {
   "base_numbering": 1,
   "nav_menu": {},
   "number_sections": false,
   "sideBar": true,
   "skip_h1_title": false,
   "title_cell": "Table of Contents",
   "title_sidebar": "Contents",
   "toc_cell": false,
   "toc_position": {},
   "toc_section_display": true,
   "toc_window_display": false
  }
 },
 "nbformat": 4,
 "nbformat_minor": 4
}
