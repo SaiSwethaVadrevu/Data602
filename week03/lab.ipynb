{
 "cells": [
  {
   "cell_type": "markdown",
   "id": "57771d6f",
   "metadata": {},
   "source": [
    "# Week 3 Lab"
   ]
  },
  {
   "cell_type": "markdown",
   "id": "ccb647fd",
   "metadata": {},
   "source": [
    "## Questions:\n",
    "- Differences between supervised and unsupervised learning?  \n",
    "- Differences between classification and regression?  \n",
    "- Classification and regression are the only types of supervised learning? "
   ]
  },
  {
   "cell_type": "markdown",
   "id": "03e12e71",
   "metadata": {},
   "source": [
    "Differences between supervised and unsupervised learning?"
   ]
  },
  {
   "cell_type": "markdown",
   "id": "65b112d1",
   "metadata": {},
   "source": [
    "In supervised learning, the goal variable or result is known, and the data are labeled. Based on sample input-output pairs that are given in the training data, the algorithm learns to translate inputs to outputs in supervised learning. In supervised learning, the goal is to create a model that can correctly forecast the target variable from fresh, unforeseen incoming data. Classification, which involves foretelling a categorical result, and regression are typical instances of supervised learning. (predicting a continuous outcome).\n",
    "\n",
    "The goal variable is unknown in unsupervised learning, which includes learning from unlabeled data. Without the aid of an output variable that has been named, an algorithm learns to recognize patterns or connections in the data through unsupervised learning. Finding the fundamental causes is the aim of unsupervised learning. Common examples of unsupervised learning include clustering, dimensionality reduction, and anomaly detection."
   ]
  },
  {
   "cell_type": "markdown",
   "id": "4172e62b",
   "metadata": {},
   "source": [
    "Differences between classification and regression?\n",
    "\n",
    "Classification is a type of supervised learning problem where the goal is to predict the categorical class of a given input. The input can be a set of features, and the output is one of several predefined classes. For example, we can classify emails as spam or not spam based on their features. The output of a classification model is discrete and categorical.\n",
    "\n",
    "Regression, on the other hand, is a type of supervised learning problem where the goal is to predict a continuous value. The input can be a set of features, and the output is a numeric value. For example, we can predict the price of a house based on its features like location, size, number of bedrooms, etc. The output of a regression model is continuous and numeric."
   ]
  },
  {
   "cell_type": "markdown",
   "id": "34eb2875",
   "metadata": {},
   "source": [
    "Classification and regression are the only types of supervised learning?\n",
    "\n",
    "No, classification and regression are not the only types of supervised learning. There are other types of supervised learning problems as well. Some examples include multi class classification, ordinal regression, time series prediction, semi supervised learning."
   ]
  },
  {
   "cell_type": "code",
   "execution_count": null,
   "id": "b25ff8b6",
   "metadata": {},
   "outputs": [],
   "source": []
  }
 ],
 "metadata": {
  "kernelspec": {
   "display_name": "Python 3 (ipykernel)",
   "language": "python",
   "name": "python3"
  },
  "language_info": {
   "codemirror_mode": {
    "name": "ipython",
    "version": 3
   },
   "file_extension": ".py",
   "mimetype": "text/x-python",
   "name": "python",
   "nbconvert_exporter": "python",
   "pygments_lexer": "ipython3",
   "version": "3.9.12"
  },
  "toc": {
   "base_numbering": 1,
   "nav_menu": {},
   "number_sections": true,
   "sideBar": true,
   "skip_h1_title": false,
   "title_cell": "Table of Contents",
   "title_sidebar": "Contents",
   "toc_cell": false,
   "toc_position": {},
   "toc_section_display": true,
   "toc_window_display": false
  }
 },
 "nbformat": 4,
 "nbformat_minor": 5
}
